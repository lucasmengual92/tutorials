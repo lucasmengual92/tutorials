{
  "nbformat": 4,
  "nbformat_minor": 0,
  "metadata": {
    "colab": {
      "provenance": []
    },
    "kernelspec": {
      "name": "python3",
      "display_name": "Python 3"
    },
    "language_info": {
      "name": "python"
    }
  },
  "cells": [
    {
      "cell_type": "markdown",
      "source": [
        "# Setting Up GROQ API Key\n",
        "\n",
        "This notebook will cover the necessary steps to create a free GROQ API key for development.\n",
        "\n",
        "1. Got to the developer site of Qrog [here](https://console.groq.com), also known as **groq cloud**.\n",
        "2. In the left sidebar clikc on the **API Keys** and then in the button **Create API Key**:\n",
        "![Create API Key](groq1.PNG)\n",
        "3. Next a pop-up will show up for you to add your unique API key name:\n",
        "![API Name](groq2.PNG)\n",
        "4. Once you click **Submit** a new pop-up will show up, but this time with the actual API key, and make sure to copy it because that will be the only time it is available to see.\n",
        "5. That is all! You should have your GROQ API key already active and ready to use. You can check the demo below for a quick-start on how to use your API key with Python. I reccomend also checking Groq's documentation to explore all the possibilities available [here](https://console.groq.com/docs/overview)."
      ],
      "metadata": {
        "id": "AHoq9bmi31MU"
      }
    },
    {
      "cell_type": "markdown",
      "source": [
        "## Demo\n",
        "\n",
        "The following code shows how you can use the groq Python library and installing it, and use it together with your brand new GROQ API key. For this example we are querying Meta's Llama 3 8B AI model."
      ],
      "metadata": {
        "id": "jkWuGVUFCqUe"
      }
    },
    {
      "cell_type": "code",
      "source": [
        "!pip install groq"
      ],
      "metadata": {
        "id": "nQ6-nHl2D1YX"
      },
      "execution_count": null,
      "outputs": []
    },
    {
      "cell_type": "code",
      "source": [
        "import os\n",
        "\n",
        "from groq import Groq\n",
        "\n",
        "client = Groq(api_key=YOUR_GROQ_API_KEY_GOES_HERE)\n",
        "\n",
        "chat_completion = client.chat.completions.create(\n",
        "    messages=[\n",
        "        {\n",
        "            \"role\": \"user\",\n",
        "            \"content\": \"Tell me a joke\",\n",
        "        }\n",
        "    ],\n",
        "    model=\"llama3-8b-8192\",\n",
        ")\n",
        "\n",
        "print(chat_completion.choices[0].message.content)"
      ],
      "metadata": {
        "id": "XoDUd1JbUPXP"
      },
      "execution_count": null,
      "outputs": []
    }
  ]
}
