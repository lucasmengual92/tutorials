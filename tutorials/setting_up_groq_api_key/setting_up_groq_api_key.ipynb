{
  "nbformat": 4,
  "nbformat_minor": 0,
  "metadata": {
    "colab": {
      "provenance": []
    },
    "kernelspec": {
      "name": "python3",
      "display_name": "Python 3"
    },
    "language_info": {
      "name": "python"
    }
  },
  "cells": [
    {
      "cell_type": "markdown",
      "source": [
        "# Setting Up GROQ API Key\n",
        "\n",
        "This notebook will cover the necessary steps to create a free GROQ API key for development.\n",
        "\n",
        "1. Got to the developer site of Qrog [here](https://console.groq.com), also known as **groq cloud**.\n",
        "2. In the left sidebar clikc on the **API Keys** and then in the button **Create API Key**:\n"
      ],
      "metadata": {
        "id": "AHoq9bmi31MU"
      }
    },
    {
      "cell_type": "code",
      "source": [],
      "metadata": {
        "id": "XoDUd1JbUPXP"
      },
      "execution_count": null,
      "outputs": []
    }
  ]
}