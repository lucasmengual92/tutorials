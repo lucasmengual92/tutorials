{
  "nbformat": 4,
  "nbformat_minor": 0,
  "metadata": {
    "colab": {
      "provenance": []
    },
    "kernelspec": {
      "name": "python3",
      "display_name": "Python 3"
    },
    "language_info": {
      "name": "python"
    }
  },
  "cells": [
    {
      "cell_type": "markdown",
      "source": [
        "# Configuración API De GROQ Y Guía-Rápida\n",
        "\n",
        "Este cuaderno cubrirá los pasos necesarios para crear una clave API gratuita de GROQ para desarrollo.\n",
        "\n",
        "1. Ve al sitio de desarrolladores de Groq [aquí](https://console.groq.com), también conocido como **groq cloud**.\n",
        "2. En la barra lateral izquierda, haz clic en **API Keys** y luego en el botón **Create API Key**.\n",
        "3. A continuación, aparecerá una ventana emergente para que agregues el nombre único de tu clave API.\n",
        "4. Una vez que hagas clic en **Submit**, aparecerá una nueva ventana emergente, pero esta vez con la clave API real. Asegúrate de copiarla porque será la única vez que estará disponible para ver.\n",
        "5. ¡Eso es todo! Deberías tener tu clave API de GROQ activa y lista para usar. Puedes consultar la demostración a continuación para un inicio rápido sobre cómo usar tu clave API con Python. También recomiendo revisar la documentación de Groq para explorar todas las posibilidades disponibles [aquí](https://console.groq.com/docs/overview)."
      ],
      "metadata": {
        "id": "AHoq9bmi31MU"
      }
    },
    {
      "cell_type": "markdown",
      "source": [
        "## Demo\n",
        "\n",
        "El siguiente código muestra cómo puedes usar la biblioteca de Python groq e instalarla, y usarla junto con tu nueva clave API de GROQ. Para este ejemplo, estamos consultando el modelo de IA Llama 3 8B de Meta."
      ],
      "metadata": {
        "id": "jkWuGVUFCqUe"
      }
    },
    {
      "cell_type": "code",
      "source": [
        "!pip install groq"
      ],
      "metadata": {
        "id": "nQ6-nHl2D1YX"
      },
      "execution_count": null,
      "outputs": []
    },
    {
      "cell_type": "code",
      "source": [
        "import os\n",
        "from groq import Groq"
      ],
      "metadata": {
        "id": "Bq52xgVWSjnK"
      },
      "execution_count": null,
      "outputs": []
    },
    {
      "cell_type": "code",
      "source": [
        "client = Groq(api_key=LA_API_KEY_DE_GROQ_VA_AQUI)\n",
        "\n",
        "chat_completion = client.chat.completions.create(\n",
        "    messages=[\n",
        "        {\"role\": \"system\", \"content\": \"Responde con acento de Argentino.\"},\n",
        "        {\"role\": \"user\", \"content\": \"Contame un chiste corto.\"}\n",
        "    ],\n",
        "    model=\"llama3-8b-8192\",\n",
        ")\n",
        "\n",
        "print(chat_completion.choices[0].message.content)"
      ],
      "metadata": {
        "id": "XoDUd1JbUPXP"
      },
      "execution_count": null,
      "outputs": []
    }
  ]
}
